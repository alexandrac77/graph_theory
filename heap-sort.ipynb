{
 "cells": [
  {
   "cell_type": "markdown",
   "id": "8225f1bd",
   "metadata": {},
   "source": [
    "## What is Heapsort?\n",
    "***\n",
    "\n",
    "Heapsort, invented by J. W. J. Williams in 1964, is a sorting algorithm that uses a binary heap data structure. \n",
    "\n",
    "A binary heap is a tree structure where the root of the tree is greater than or equal to all of its children (max-heap) or where the root of the tree is less than or equal to all of its children (min-heap). The heap can be stored as an array or a binary tree.\n",
    "\n",
    "To rearrange and maintain the max-heap or min-heap, Heapsort uses the heapify function to keep the nodes in a binary tree in the correct order. All nodes in the tree are checked to ensure they satisfy the max-heap or min-heap property.\n",
    "\n",
    "The heapsort algorithm first builds a max-heap or min-heap and then sorts it. \n",
    "\n",
    "### The following is an example of how heapsort works using a max-heap:\n",
    "1. A max-heap is generated from an array with the largest element located at A[0].\n",
    "2. The largest element of the array (A[0]) is swapped with the last element in the array (A[n]).\n",
    "3. The element moved to the last node in the heap is discarded by decrementing the heap size by 1. The largest element is now sorted in the list.\n",
    "4. Heapify function is used to ensure the heap still follows the max-heap property.\n",
    "5. Repeating the instructions from step 2 generates a sorted list.\n",
    "\n",
    "\n",
    "`Heapsort has a running time of O(nlogn). `"
   ]
  },
  {
   "cell_type": "markdown",
   "id": "d5e95efc",
   "metadata": {},
   "source": [
    "<br>\n",
    "<br>\n",
    "\n",
    "## Implementation of Heapsort.\n",
    "***"
   ]
  },
  {
   "cell_type": "code",
   "execution_count": null,
   "id": "c8078a8d",
   "metadata": {},
   "outputs": [],
   "source": []
  },
  {
   "cell_type": "code",
   "execution_count": null,
   "id": "cc2e28f6",
   "metadata": {},
   "outputs": [],
   "source": []
  }
 ],
 "metadata": {
  "kernelspec": {
   "display_name": "Python 3 (ipykernel)",
   "language": "python",
   "name": "python3"
  },
  "language_info": {
   "codemirror_mode": {
    "name": "ipython",
    "version": 3
   },
   "file_extension": ".py",
   "mimetype": "text/x-python",
   "name": "python",
   "nbconvert_exporter": "python",
   "pygments_lexer": "ipython3",
   "version": "3.9.7"
  }
 },
 "nbformat": 4,
 "nbformat_minor": 5
}
