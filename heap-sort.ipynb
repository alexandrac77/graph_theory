{
 "cells": [
  {
   "cell_type": "markdown",
   "id": "8225f1bd",
   "metadata": {},
   "source": [
    "## What is Heapsort?\n",
    "***\n",
    "\n",
    "Heapsort, invented by J. W. J. Williams in 1964, is a sorting algorithm that uses a binary heap data structure. \n",
    "\n",
    "A binary heap is a tree structure where the root of the tree is greater than or equal to all of its children (max-heap) or where the root of the tree is less than or equal to all of its children (min-heap). The heap can be stored as an array or a binary tree.\n",
    "\n",
    "To rearrange and maintain the max-heap or min-heap, Heapsort uses the heapify function to keep the nodes in a binary tree in the correct order. All nodes in the tree are checked to ensure they satisfy the max-heap or min-heap property.\n",
    "\n",
    "The heapsort algorithm first builds a max-heap or min-heap and then sorts it. \n",
    "\n",
    "### The following is an example of how heapsort works using a max-heap:\n",
    "1. A max-heap is generated from an array with the largest element located at A[0].\n",
    "2. The largest element of the array (A[0]) is swapped with the last element in the array (A[n]).\n",
    "3. The element moved to the last node in the heap is discarded by decrementing the heap size by 1. The largest element is now sorted in the list.\n",
    "4. Heapify function is used to ensure the heap still follows the max-heap property.\n",
    "5. Repeating the instructions from step 2 generates a sorted list.\n",
    "\n",
    "\n",
    "`Heapsort has a running time of O(nlogn). `"
   ]
  },
  {
   "cell_type": "markdown",
   "id": "d5e95efc",
   "metadata": {},
   "source": [
    "<br>\n",
    "<br>\n",
    "\n",
    "## Implementation of Heapsort.\n",
    "***"
   ]
  },
  {
   "cell_type": "code",
   "execution_count": 3,
   "id": "c8078a8d",
   "metadata": {},
   "outputs": [
    {
     "name": "stdout",
     "output_type": "stream",
     "text": [
      "Unsorted list is:  [1, 5, 6, 7, 9, 10, 15]\n",
      "Sorted list is\n",
      "1 5 6 7 9 10 15 "
     ]
    }
   ],
   "source": [
    "# Heapify Function. \n",
    "def heapify(L, n, i):\n",
    "  # Find largest element.\n",
    "  largest = i\n",
    "  leftChild = 2 * i + 1\n",
    "  rightChild = 2 * i + 2\n",
    "\n",
    "  if leftChild < n and L[i] < L[leftChild]:\n",
    "      largest = leftChild\n",
    "\n",
    "  if rightChild < n and L[largest] < L[rightChild]:\n",
    "      largest = rightChild\n",
    "\n",
    "  # If root is not largest, swap root with largest.\n",
    "  if largest != i:\n",
    "      L[i], L[largest] = L[largest], L[i]\n",
    "      heapify(L, n, largest)\n",
    "\n",
    "\n",
    "def heapSort(L):\n",
    "  n = len(L)\n",
    "\n",
    "  # Build max heap\n",
    "  for i in range(n//2, -1, -1):\n",
    "      heapify(L, n, i)\n",
    "\n",
    "  for i in range(n-1, 0, -1):\n",
    "      # Swap\n",
    "      L[i], L[0] = L[0], L[i]\n",
    "\n",
    "      # Heapify root element\n",
    "      heapify(L, i, 0)\n",
    "\n",
    "\n",
    "# Unsorted list.\n",
    "L = [1, 15, 9, 5, 6, 10,7]\n",
    "\n",
    "# Call heapSort function & pass in L.\n",
    "heapSort(L)\n",
    "n = len(L)\n",
    "\n",
    "# Print sorted list.\n",
    "print(\"Unsorted list is: \", L)\n",
    "print(\"Sorted list is\")\n",
    "for i in range(n):\n",
    "  print(\"%d \" % L[i], end='')"
   ]
  },
  {
   "cell_type": "markdown",
   "id": "0374c7ea",
   "metadata": {},
   "source": [
    "<br>\n",
    "<br>\n",
    "\n",
    "## Computational Complexity of Heapsort.\n",
    "***\n",
    "\n",
    "computational complexity that describes the amount of time it takes to run an algorithm. Time complexity is commonly estimated by counting the number of elementary operations performed by the algorithm, supposing that each elementary operation takes a fixed amount of time to perform. in this example n is the length of the list L.\n",
    "\n",
    "<u>The overall complexity of the heapsort algorithm is called Quasilinear time and can be represented by the Big O notation: `O(n log n).`</u>\n",
    "- Calling heapify means every node in the binary tree is examined and moved downwards until it is larger than its children. A binary tree has a complexity of O(log n). This equates the heapify function to a complexity of O(n log n) as we make a maximun of O(log n) moves across n amount of nodes.\n",
    "\n",
    "\n",
    "- Removing elements from the heap takes O(log n) time. This is because we move a new value to the root node of the heap and sift down.\n",
    "\n",
    "As these steps are repeated n amount of times, the complexity of heapsort becomes O(n log n).\n",
    "\n",
    "<br>\n",
    "\n",
    "If every element in the tree is identical, the complexity of heapsort is O(n). This happens because when the element at the root node is removed, the element replacing it won't have to sift down.\n"
   ]
  }
 ],
 "metadata": {
  "kernelspec": {
   "display_name": "Python 3 (ipykernel)",
   "language": "python",
   "name": "python3"
  },
  "language_info": {
   "codemirror_mode": {
    "name": "ipython",
    "version": 3
   },
   "file_extension": ".py",
   "mimetype": "text/x-python",
   "name": "python",
   "nbconvert_exporter": "python",
   "pygments_lexer": "ipython3",
   "version": "3.9.7"
  }
 },
 "nbformat": 4,
 "nbformat_minor": 5
}
