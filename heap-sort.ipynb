{
 "cells": [
  {
   "cell_type": "markdown",
   "id": "30aa761b",
   "metadata": {},
   "source": [
    "### GRAPH THEORY \n",
    "<b> summer assessment 2022 </b>\n",
    "\n",
    "Alexandra Cotter - G00385851\n",
    "***"
   ]
  },
  {
   "attachments": {
    "min%20max%20heap.png": {
     "image/png": "[encoded data removed]"
    }
   },
   "cell_type": "markdown",
   "id": "8225f1bd",
   "metadata": {},
   "source": [
    "## What is Heapsort?\n",
    "***\n",
    "\n",
    "Heapsort, invented by J. W. J. Williams in 1964, is a sorting algorithm that uses a binary heap data structure. \n",
    "\n",
    "A binary heap is a tree structure where the root of the tree is greater than or equal to all of its children (max-heap) or where the root of the tree is less than or equal to all of its children (min-heap). The heap can be stored as an array or a binary tree.\n",
    "\n",
    "Figure 1 represents a max-heap on the left and a min-heap on the right and provides a visualisation of the parent node being greater or lesser than the child nodes depending on the type of heap.\n",
    "\n",
    "The heaps are generated from the same array: 20,30,10,70,60,50,40\n",
    "\n",
    "![min%20max%20heap.png](attachment:min%20max%20heap.png)\n",
    "<i>Figure 1.</i>\n",
    "\n",
    "The index for the parent's right or left child can be found using the following formula:\n",
    "- leftchild=2n+1 \n",
    "- rightchild=2n+2\n",
    "\n",
    "* n represents the position of the node.\n",
    "\n",
    "<i>Example: Find the left child of the node in position 2.</i>\n",
    "- 2(2) + 1 = 5\n",
    "\n",
    "\n",
    "To find the parent node from a child node the follwoing formula can be used:\n",
    "- parent = (n-1)/2 — floored.\n",
    "\n",
    "<i>Example: Find the parent of the node in position 5. </i>\n",
    "- (5-1)/2 = 2\n",
    "\n",
    "<br>\n",
    "\n",
    "Maintaining the max-heap or min-heap requires the use of a function called heapify. Heapify keeps the nodes in a binary tree in the correct order by comparing the parent with its left and right child.  In the case of a max-heap, if a child is found to be larger than its parent, it is swapped with the parent node. All nodes in the tree are checked to ensure they satisfy the max-heap or min-heap condition.\n",
    "\n",
    "The heapsort algorithm consists of two phases: \n",
    "1. The array being sorted is converted into a max or min heap.\n",
    "2. Depending on the type of heap, the largest or smallest element at the tree root is removed, and a new max/min heap is created from the remaining elements.\n",
    "\n",
    "It can be said that the heapsort algorithm first builds a max-heap or min-heap and then sorts it. \n",
    "\n",
    "### The following is an example of how heapsort works using a max-heap:\n",
    "1. A max-heap is generated from an array with the largest element located at A[0].\n",
    "2. The largest element of the array (A[0]) is swapped with the last element in the array (A[n]).\n",
    "3. The element moved to the last node in the heap is discarded by decrementing the heap size by 1. The largest element is now sorted in the list.\n",
    "4. Heapify function is used to ensure the heap still follows the max-heap property.\n",
    "5. Repeating the instructions from step 2, while the heap is greater than size 1, generates a sorted list.\n",
    "\n",
    "\n",
    "`Heapsort has a running time of O(nlogn). `\n",
    "\n",
    "\n"
   ]
  },
  {
   "cell_type": "markdown",
   "id": "d5e95efc",
   "metadata": {},
   "source": [
    "<br>\n",
    "<br>\n",
    "\n",
    "## Implementation of Heapsort.\n",
    "***"
   ]
  },
  {
   "cell_type": "code",
   "execution_count": 1,
   "id": "c8078a8d",
   "metadata": {},
   "outputs": [
    {
     "name": "stdout",
     "output_type": "stream",
     "text": [
      "Unsorted list is:  [1, 5, 6, 7, 9, 10, 15]\n",
      "Sorted list is: \n",
      "1 5 6 7 9 10 15 "
     ]
    }
   ],
   "source": [
    "# Heapify Function. \n",
    "def heapify(L, n, i):\n",
    "  # Find largest element.\n",
    "  largest = i\n",
    "  leftChild = 2 * i + 1\n",
    "  rightChild = 2 * i + 2\n",
    "\n",
    "  if leftChild < n and L[i] < L[leftChild]:\n",
    "      largest = leftChild\n",
    "\n",
    "  if rightChild < n and L[largest] < L[rightChild]:\n",
    "      largest = rightChild\n",
    "\n",
    "  # If root is not largest, swap root with largest.\n",
    "  if largest != i:\n",
    "      L[i], L[largest] = L[largest], L[i]\n",
    "      heapify(L, n, largest)\n",
    "\n",
    "\n",
    "def heapSort(L):\n",
    "  n = len(L)\n",
    "\n",
    "  # Build max heap\n",
    "  for i in range(n//2, -1, -1):\n",
    "      heapify(L, n, i)\n",
    "\n",
    "  for i in range(n-1, 0, -1):\n",
    "      # Swap\n",
    "      L[i], L[0] = L[0], L[i]\n",
    "\n",
    "      # Heapify root element\n",
    "      heapify(L, i, 0)\n",
    "\n",
    "\n",
    "# Unsorted list.\n",
    "L = [1, 15, 9, 5, 6, 10,7]\n",
    "\n",
    "# Call heapSort function & pass in L.\n",
    "heapSort(L)\n",
    "n = len(L)\n",
    "\n",
    "# Print sorted list.\n",
    "print(\"Unsorted list is: \", L)\n",
    "print(\"Sorted list is: \")\n",
    "for i in range(n):\n",
    "  print(\"%d \" % L[i], end='')"
   ]
  },
  {
   "cell_type": "markdown",
   "id": "c571ff25",
   "metadata": {},
   "source": [
    "### Explanation\n",
    "Within the coded example we are sorting an unordered array L: <b> 1, 15, 9, 5, 6, 10, 7</b>.\n",
    "\n",
    "First we pass in L to the heapSort function. Here a max heap is created from the array data. \n",
    "\n",
    "The first index of a non-leaf node is given by n/2 - 1. All nodes after that are leaf-nodes. Then the first element in the array is swapped with the element at position i. \n",
    "\n",
    "Heapify function is called to preserve the heap order.\n",
    "\n",
    "The heapify function finds the largest element and checks to see if the child node is larger than it's parent node. If this is true, the parent element gets swapped with the child element. \n",
    "\n",
    "This process is repeated until the max heap condition is satisfied.\n",
    "\n",
    "Eventually we are left with the sorted array: <b> 1, 5, 6, 7, 9, 10, 15</b>\n"
   ]
  },
  {
   "cell_type": "markdown",
   "id": "0374c7ea",
   "metadata": {},
   "source": [
    "<br>\n",
    "<br>\n",
    "\n",
    "## Computational Complexity of Heapsort.\n",
    "***\n",
    "\n",
    "Computational complexity measures the amount of time and space taken to run an algorithm.\n",
    "\n",
    "<u>The overall time complexity of the heapsort algorithm is called Quasilinear time and can be represented by the Big O notation: `O(n log n).`</u>\n",
    "- Calling heapify means every node in the binary tree is examined and moved downwards until it is larger than its children. A binary tree has a complexity of O(log n). This equates the heapify function to a complexity of O(n log n) as we make a maximun of O(log n) moves across n amount of nodes.\n",
    "\n",
    "\n",
    "- Removing elements from the heap takes O(log n) time. This is because we move a new value to the root node of the heap and sift down.\n",
    "\n",
    "As these steps are repeated n amount of times, the complexity of heapsort becomes O(n log n).\n",
    "\n",
    "<br>\n",
    "\n",
    "If every element in the tree is identical, the complexity of heapsort is O(n). This happens because when the element at the root node is removed, the element replacing it won't have to sift down.\n",
    "\n",
    "The space complexity of heapsort is `O(1)` This is because the algorithm does not require any additional memory space for loop and auxillary variables, meaning heapsort is an in-place sorting algorithm. \n",
    "\n"
   ]
  },
  {
   "cell_type": "markdown",
   "id": "05d9dd68",
   "metadata": {},
   "source": [
    "### Graphical representation of O(n log n).\n",
    "Below is a graphical representation of the time complexity for heapsort. The plots for the graph run through from 1 - 15 like in the List array that we ordered above with the heapsort algorithm. "
   ]
  },
  {
   "cell_type": "code",
   "execution_count": 5,
   "id": "c65244a7",
   "metadata": {},
   "outputs": [
    {
     "data": {
      "text/plain": [
       "<matplotlib.legend.Legend at 0x287215cdd30>"
      ]
     },
     "execution_count": 5,
     "metadata": {},
     "output_type": "execute_result"
    },
    {
     "data": {
      "image/png": "[encoded data removed]",
      "text/plain": [
       "<Figure size 1440x720 with 1 Axes>"
      ]
     },
     "metadata": {
      "needs_background": "light"
     },
     "output_type": "display_data"
    }
   ],
   "source": [
    "import matplotlib.pyplot as plt\n",
    "plt.rcParams[\"figure.figsize\"] = (20,10)\n",
    "import networkx as nx\n",
    "import math\n",
    "import numpy as np\n",
    "\n",
    "n = np.arange(1,15,0.1)\n",
    "\n",
    "y1 = n**2\n",
    "y2 = n * np.log(n)\n",
    "\n",
    "plt.plot(n, y2, label='$n \\log(n)$', color=\"hotpink\", linewidth=4)\n",
    "plt.legend()"
   ]
  },
  {
   "cell_type": "markdown",
   "id": "a0c72a83",
   "metadata": {},
   "source": [
    "Heapsort is a good choice for sorting an unordered collection. However for pre-sorted collections it is not as great because a heap is filled and emptied regardless of the pre-existing ordering.\n",
    "\n",
    "Harvard\n",
    "Claus Matzinger (2019) Hands-On Data Structures and Algorithms with Rust : Learn Programming Techniques to Build Effective, Maintainable, and Readable Code in Rust 2018. Birmingham, UK: Packt Publishing.\n",
    "\n",
    "### Heapsort stability\n",
    "A sorting algorithm is stable if two objects with equal keys appear in the same order in the sorted output as they appear in the unsorted input.\n",
    "\n",
    "Heapsort is not stable because operations on the heap can change the order of equal items.\n",
    "\n",
    "The sorted sequence result from heapsort is created by removing items from the heap in size order. Any information regarding the order of the items in the original sequence is lost during the heap creation.\n",
    "\n",
    "<u>example</u>\n",
    "\n",
    "Consider array <b>99 70a 70b 55 34 19 11</b> (already in max-heap format)\n",
    "\n",
    "70a is equal to 70b. To differentiate their order they're represented as 70a and 70b.\n",
    "\n",
    "First 99 is removed from the heap and placed in the last index position. \n",
    "\n",
    "Then 70a is removed and placed in the seocnd-to-last index position, with 70b placed in the third-to-last index position.\n",
    "\n",
    "The rest of the elements are sorted in the same manner.\n",
    "\n",
    "After sorting the array with heap sort, we get the following result:\n",
    "\n",
    "<b>11 19 34 55 70b 70a 99</b>\n",
    "\n",
    "As we can see, the order of elements has not been preserved, hence making heapsort an unstable algorithm."
   ]
  },
  {
   "cell_type": "markdown",
   "id": "fee7d674",
   "metadata": {},
   "source": [
    "<br>\n",
    "<br>\n",
    "\n",
    "## Graph Theory in Heapsort.\n",
    "\n",
    "***\n",
    "<br>\n",
    "Graph theory is the study of mathematical structures called graphs that involves interpreting the relationship(s) among edges and vertices and, properties and applications of the graph. \n",
    "\n",
    "Graphs are comprised of a set of nodes, also called vertices, and edges, or connections between the nodes.\n",
    "\n",
    "\n",
    "Heaps are graphs that have the following properties:\n",
    "\n",
    "- each node has a maximum of two child nodes.\n",
    "\n",
    "- the root node has the smallest or highest value of all the values in the graph.\n",
    "\n",
    "- every subtree is essentially a mini heap that has the properties of the main heap.\n",
    "\n",
    "They make it easy to find elements with the smallest or largest value in a collection of elements.\n",
    "\n",
    "\n",
    "The elements of graph theory that relate to interpreting relationships among graph verticies and edges, can be seen in the heapsort algorithm through parent-child relationships in a binary tree structure. A parent node in a binary tree can have up to two children. Edges connect the child leaf nodes to the parent node. \n",
    "\n",
    "For a relationship to exist between the child and parent nodes in a max-heap, the parent node must be greater than both child nodes. The opposite is the case for a min-heap. \n",
    "\n",
    "\n",
    "<br>\n",
    "\n",
    "Heapsort can be used when the smallest or largest value is needed instantly. Using max-heap or min-heap implementation, the first node that is sorted using the heapsort algorithm will either be the largest or smallest value in the sorted list.\n",
    "\n",
    "Graph theory can be used to compute travel times. The traveltime problem can be solved by looking for the shortest path within a network. Using the min-heap extracted from a heapsort algorithm guaruntees finding a stable minimum travel time.\n",
    "\n",
    "To compute efficient traveltime calculations to find minimum traveltime routes in graph theory a fast sorting algorithm such as heapsort is recommended. A Quicksort algorithm, however, would be faster.\n",
    "\n",
    "An example of immediately needing the smallest value from an algorithm such as heapsort can be seen in Dijkstra's algorithm.\n",
    "Dijkstra's algorithm can be applied in graph theory to find the shortest path between nodes in a graph. It is used in GPS systems to determine the shortest path from one location to another. Heapsort is implemented in Dijkstra's algorithm.\n",
    "\n",
    "The running time of Dijkstra's algorithm drastically increases with the addition of more nodes. An improved version of the algorithm is based on heapsort, where the operation on the priority queue is implemented by using the complete binary tree and the node data is stored in three-element compression storage structure. This is according to Analysis of the Shortest Repaired Path of Distribution Network Based on Dijkstra Algorithm by Yi Hu, Zhiying Chang, Liying Sun, Yi Wang.\n"
   ]
  },
  {
   "cell_type": "markdown",
   "id": "f3e65c71",
   "metadata": {},
   "source": [
    "## References\n",
    "***\n",
    "\n",
    "Y.Hu, Z.Chang, L.Sun, Y.Wang. (2009). Analysis of the Shortest Repaired Path of Distribution Network Based on Dijkstra Algorithm.\n",
    "\n",
    "https://ieeexplore.ieee.org/abstract/document/5362929/authors#authors\n",
    "\n",
    "Brilliant. Moore.K, Tiliksew.B, Sharma.G, Pilling.G, Chumbley.A, Khim.J. (2022). Heap Sort. [online]\n",
    "\n",
    "https://brilliant.org/wiki/heap-sort/\n",
    "\n",
    "M.Sambol. (2016). Heap Sort in 4 Minutes. [online]. \n",
    "\n",
    "https://www.youtube.com/watch?v=2DmK_H7IdTo\n",
    "\n",
    "Programiz. HeapSort Algorithm. [online].\n",
    "\n",
    "https://www.programiz.com/dsa/heap-sort\n",
    "\n",
    "Interview Cake. HeapSort Algorithm. [online].\n",
    "\n",
    "https://www.interviewcake.com/concept/java/heapsort\n",
    "\n",
    "S.Woltmann. (2020). Heap Sort - Algorithm, Source Code, Time Complexity. [online].\n",
    "\n",
    "https://www.happycoders.eu/algorithms/heapsort/#Heapsort_Time_Complexity\n",
    "\n",
    "V.Gupta. (2020). Visualizing, Designing and Analyzing the Heap Sort Algorithm. [online].\n",
    "\n",
    "https://levelup.gitconnected.com/visualizing-designing-and-analyzing-the-heap-sort-algorithm-482c917c733b\n",
    "\n",
    "Stack Overflow. (2014). Why isn't Heap Sort stable? [online].\n",
    "\n",
    "https://stackoverflow.com/questions/19336881/why-isnt-heapsort-stable\n",
    "\n",
    "J.Lu, C.Dong. (2012). Research of shortest path algorithm based on the data structure.\n",
    "\n",
    "https://ieeexplore.ieee.org/abstract/document/6269416\n",
    "\n",
    "Srivastava, A.Kumar. (2020). A Practical Approach to Data Structure and Algorithm with Programming in C. [online].\n",
    "\n",
    "https://eds.p.ebscohost.com/eds/detail/detail?vid=0&sid=b56c8a5e-541e-45d4-ac27-d9402b0f58c2%40redis&bdata=JkF1dGhUeXBlPWlwLHNzbyZzaXRlPWVkcy1saXZlJnNjb3BlPXNpdGU%3d#AN=2324349&db=nlebk\n",
    "\n",
    "C.Matzinger. (2019). Hands-On Data Structures and Algorithms with Rust : Learn Programming Techniques to Build Effective, Maintainable, and Readable Code in Rust 2018. [online].\n",
    "\n",
    "https://eds.p.ebscohost.com/eds/detail/detail?vid=2&sid=f3dcde7d-7d7c-4dba-a9f6-b18d7f939079%40redis&bdata=JkF1dGhUeXBlPWlwLHNzbyZzaXRlPWVkcy1saXZlJnNjb3BlPXNpdGU%3d#AN=2012512&db=nlebk"
   ]
  },
  {
   "cell_type": "code",
   "execution_count": null,
   "id": "866bdaa7",
   "metadata": {},
   "outputs": [],
   "source": []
  }
 ],
 "metadata": {
  "kernelspec": {
   "display_name": "Python 3 (ipykernel)",
   "language": "python",
   "name": "python3"
  },
  "language_info": {
   "codemirror_mode": {
    "name": "ipython",
    "version": 3
   },
   "file_extension": ".py",
   "mimetype": "text/x-python",
   "name": "python",
   "nbconvert_exporter": "python",
   "pygments_lexer": "ipython3",
   "version": "3.9.7"
  }
 },
 "nbformat": 4,
 "nbformat_minor": 5
}
